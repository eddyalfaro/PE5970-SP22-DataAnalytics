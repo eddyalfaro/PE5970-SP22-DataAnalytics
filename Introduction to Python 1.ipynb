{
 "cells": [
  {
   "cell_type": "markdown",
   "metadata": {},
   "source": [
    "<small><small><i>\n",
    " \n",
    "**Some of the code in this notebook comes from https://github.com/justmarkham/python-reference, https://gitlab.erc.monash.edu.au/andrease/Python4Maths.git, and https://lukas-snoek.com/introPy/solutions/week_1/0_introduction.html**\n",
    "\n",
    "</small></small></i>\n",
    "\n",
    "\n",
    "\n",
    "#### This file was modified by Deepak Devegowda, http://www.ou.edu/mcee/mpge/people"
   ]
  },
  {
   "cell_type": "markdown",
   "metadata": {},
   "source": [
    "# Python"
   ]
  },
  {
   "cell_type": "markdown",
   "metadata": {},
   "source": [
    "## Introduction\n",
    "\n",
    "\n",
    "\n",
    "Python is a modern, robust, high level programming language. It is very easy to pick up even if you are completely new to programming. \n",
    "\n",
    "Python, similar to other languages like matlab or R, is interpreted hence runs slowly compared to C++, Fortran or Java. However writing programs in Python is very quick. Python has a very large collection of libraries for everything from scientific computing to web services. Because it has a large collection of libraries, the basic functionality of Python is limited. \n",
    "\n",
    "\n",
    "These lectures are using jupyter notebooks which mix Python code with documentation. \n",
    "\n",
    "\n",
    "\n",
    "\n"
   ]
  },
  {
   "cell_type": "code",
   "execution_count": null,
   "metadata": {},
   "outputs": [],
   "source": [
    "# Write your first line of code\n",
    "# Any line prefaced with a # is a comment. Remember you need to have a space after the #.\n",
    "\n",
    "\n",
    "print('This is a code cell')"
   ]
  },
  {
   "cell_type": "markdown",
   "metadata": {},
   "source": [
    "# Anaconda\n",
    "\n",
    "Anaconda is a Python distribution that ships most Python tools and libraries."
   ]
  },
  {
   "cell_type": "markdown",
   "metadata": {},
   "source": [
    "## License\n",
    "This work is licensed under the Creative Commons Attribution 3.0 Unported License. To view a copy of this license, visit http://creativecommons.org/licenses/by/3.0/"
   ]
  }
 ],
 "metadata": {
  "kernelspec": {
   "display_name": "Python 3",
   "language": "python",
   "name": "python3"
  },
  "language_info": {
   "codemirror_mode": {
    "name": "ipython",
    "version": 3
   },
   "file_extension": ".py",
   "mimetype": "text/x-python",
   "name": "python",
   "nbconvert_exporter": "python",
   "pygments_lexer": "ipython3",
   "version": "3.7.3"
  }
 },
 "nbformat": 4,
 "nbformat_minor": 1
}
