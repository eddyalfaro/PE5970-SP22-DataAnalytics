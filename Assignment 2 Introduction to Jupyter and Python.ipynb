{
 "cells": [
  {
   "cell_type": "markdown",
   "metadata": {},
   "source": [
    "# Assignment 2"
   ]
  },
  {
   "cell_type": "markdown",
   "metadata": {},
   "source": [
    "Q1. Print your name as a:\n",
    "* large header, \n ",
    "* smaller header and, \n ",
    "* an even smaller header and, \n ",
    "* in normal font \n ",
    "\n",
    "Create a new cell for each answer."
   ]
  }, 
  {
   "cell_type": "markdown",
   "metadata": {},
   "source": [
    "Q1 Answers:\n # Eddy Alfaro Cordoba \n ## Eddy Alfaro Cordoba \n ### Eddy Alfaro Cordoba \n Eddy Alfaro Cordoba \n"
   ]
  },
  {
   "cell_type": "markdown",
   "metadata": {},
   "source": [
    "Q2. Create a bulleted list below of the different modes of machine learning."
   ]
  },
  {
   "cell_type": "markdown",
   "metadata": {},
   "source": [
    "Q2 answers: \n - Surpervised Learning \n - Unsupervised Learning \n - Reinforcement Learning \n"
   ]
  },
  {
   "cell_type": "markdown",
   "metadata": {},
   "source": [
    "Q3. Use this website: https://www.markdownguide.org/basic-syntax/ to learn how to type your name out in:\n",
    "* Bold\n",
    "* Italics\n",
    "* Bold and italics\n",
    "\n",
    "Use a separate cell for each answer. On the website, only refer to the entries related to **'Markdown'**. Dont worry about the entries corresponding to 'HTML'."
   ]
  },
  {
   "cell_type": "markdown",
   "metadata": {},
   "source": [
    "Q3 answers:  \n  __Eddy Alfaro Cordoba__  \n  _Eddy Alfaro Cordoba_  \n  ___Eddy Alfaro Cordoba___ "
   ]
  },
  {
   "cell_type": "markdown",
   "metadata": {},
   "source": [
    "Q4. Add all integers from 0 to 5. Print the data type associated with the answer."
   ]
  },
  {
   "cell_type": "code",
   "execution_count": null,
   "metadata": {},
   "outputs": [],
   "source": [
    "Sum = 0 + 1 + 2 + 3 + 4 + 5 \n",
    "type(Sum)"
   ]
  },
  {
   "cell_type": "markdown",
   "metadata": {},
   "source": [
    "Q5. Define a variable that takes the value of 5. Call it x. Define another variable that takes the value of 3. Call it y. Multiply x and y. Assign the value to a new variable called z. Use the 'print' command to print the answer."
   ]
  },
  {
   "cell_type": "code",
   "execution_count": null,
   "metadata": {},
   "outputs": [],
   "source": [
    "x = 5 \n",
    "y = 3 \n",
    "z = x * y \n",
    "print(z)"
   ]
  },
  {
   "cell_type": "markdown",
   "metadata": {},
   "source": [
    "Q7. Multiply x to the power of 0.5 and y to the power of 0.5. Assign the value to a new variable called z. Use the 'print' command to print the answer. Why is the value of z in this question different from value in the previous question? "
   ]
  },
  {
   "cell_type": "markdown",
   "metadata": {},
   "source": [
    "Q8. Find the integer part of 22/7. Your code should start with a value of pi = 22/7 and discard the fraction (using some mathematical operation)."
   ]
  },
  {
   "cell_type": "markdown",
   "metadata": {},
   "source": [
    "Q9. In the code below, there may be a few errors. If you see something wrong, fix it and type out the correct code."
   ]
  },
  {
   "cell_type": "code",
   "execution_count": null,
   "metadata": {},
   "outputs": [],
   "source": [
    "x = 3\n",
    "\n",
    "y = X**0.5 - 4"
   ]
  },
  {
   "cell_type": "markdown",
   "metadata": {},
   "source": [
    "Q10. In the code below, there may be a few errors. If you see something wrong, fix it and type out the correct code.I am attempting to add all integers from 1 to 5 and storing and printing it in the variable called Sum."
   ]
  },
  {
   "cell_type": "code",
   "execution_count": null,
   "metadata": {},
   "outputs": [],
   "source": [
    "x = 5\n",
    "Sum = 5"
   ]
  },
  {
   "cell_type": "code",
   "execution_count": null,
   "metadata": {},
   "outputs": [],
   "source": [
    "x = x - 1\n",
    "sum = Sum + X"
   ]
  },
  {
   "cell_type": "code",
   "execution_count": null,
   "metadata": {},
   "outputs": [],
   "source": [
    "X = x - 1\n",
    "Sum = Sum + x"
   ]
  },
  {
   "cell_type": "code",
   "execution_count": null,
   "metadata": {},
   "outputs": [],
   "source": [
    "x = x - 1\n",
    "Sum = sum + X"
   ]
  },
  {
   "cell_type": "code",
   "execution_count": null,
   "metadata": {},
   "outputs": [],
   "source": [
    "x = x - 1\n",
    "Sum = Sum + X"
   ]
  },
  {
   "cell_type": "code",
   "execution_count": null,
   "metadata": {},
   "outputs": [],
   "source": [
    "print('Sum')"
   ]
  },
  {
   "cell_type": "markdown",
   "metadata": {},
   "source": [
    "Q11. Find the sum of all integers from 0 to 5, but start from the smallest number. Note that in the previous question, you started with 5 and kept decreasing the quantity being added to the variable, Sum."
   ]
  },
  {
   "cell_type": "markdown",
   "metadata": {},
   "source": [
    "Q12. In the code below, there may be a few errors. If you see something wrong, fix it and type out the correct code.Below, I am attempting to find the factorial of 6"
   ]
  },
  {
   "cell_type": "code",
   "execution_count": null,
   "metadata": {},
   "outputs": [],
   "source": [
    "n = 6\n",
    "Factorial = 0"
   ]
  },
  {
   "cell_type": "code",
   "execution_count": null,
   "metadata": {},
   "outputs": [],
   "source": [
    "Factorial = Factorial * n\n",
    "n = n - 1"
   ]
  },
  {
   "cell_type": "code",
   "execution_count": null,
   "metadata": {},
   "outputs": [],
   "source": [
    "Factorial = Sum * n\n",
    "n = n + 1"
   ]
  },
  {
   "cell_type": "code",
   "execution_count": null,
   "metadata": {},
   "outputs": [],
   "source": [
    "Factorial = factorial * n\n",
    "n = n = 1"
   ]
  },
  {
   "cell_type": "code",
   "execution_count": null,
   "metadata": {},
   "outputs": [],
   "source": [
    "Factorial = Factorial * n\n",
    "N = n - 1"
   ]
  },
  {
   "cell_type": "code",
   "execution_count": null,
   "metadata": {},
   "outputs": [],
   "source": [
    "Factorial = Factorial * n\n",
    "n = n - 1"
   ]
  },
  {
   "cell_type": "code",
   "execution_count": null,
   "metadata": {},
   "outputs": [],
   "source": [
    "print(Factorial)"
   ]
  },
  {
   "cell_type": "markdown",
   "metadata": {},
   "source": [
    "Q13. Find the factorial of 7. Start with the smallest number. Note that in the previous question, you started with 6 and kept decreasing the quantity being multiplied."
   ]
  }
 ],
 "metadata": {
  "kernelspec": {
   "display_name": "Python 3",
   "language": "python",
   "name": "python3"
  },
  "language_info": {
   "codemirror_mode": {
    "name": "ipython",
    "version": 3
   },
   "file_extension": ".py",
   "mimetype": "text/x-python",
   "name": "python",
   "nbconvert_exporter": "python",
   "pygments_lexer": "ipython3",
   "version": "3.7.3"
  }
 },
 "nbformat": 4,
 "nbformat_minor": 1
}
